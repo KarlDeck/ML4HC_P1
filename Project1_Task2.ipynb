{
 "cells": [
  {
   "cell_type": "markdown",
   "metadata": {},
   "source": [
    "<span style=\"font-size:50px\"><strong>ML4HC Project 1 - Task 2</strong></span>\n"
   ]
  },
  {
   "cell_type": "markdown",
   "metadata": {},
   "source": [
    "#  Classic Machine Learning Methods - Q2.1"
   ]
  },
  {
   "cell_type": "markdown",
   "metadata": {},
   "source": [
    "Transform time series data to simple value per patient"
   ]
  },
  {
   "cell_type": "code",
   "execution_count": 107,
   "metadata": {},
   "outputs": [],
   "source": [
    "def transform_time_series_to_vector(df, trafo_function=\"mean\"):\n",
    "    df = df.drop(columns=[\"ICUType\"])\n",
    "\n",
    "    static_vars = ['Age', 'Gender', 'Height']\n",
    "    ts_vars = [col for col in df.columns if col not in static_vars + ['RecordID', 'Time']]\n",
    "\n",
    "    if trafo_function == \"mean\":\n",
    "        ts_df = df.groupby('RecordID')[ts_vars].mean()\n",
    "    elif trafo_function == \"max\":\n",
    "        ts_df = df.groupby('RecordID')[ts_vars].max()\n",
    "    elif trafo_function == \"last_measured\":\n",
    "        ts_df = df.sort_values(\"Time\").groupby('RecordID')[ts_vars].last()\n",
    "    else:\n",
    "        raise ValueError(\"Invalid trafo_function\")\n",
    "\n",
    "    static_df = df.groupby('RecordID')[static_vars].first()\n",
    "    return pd.concat([static_df, ts_df], axis=1)\n"
   ]
  },
  {
   "cell_type": "markdown",
   "metadata": {},
   "source": [
    "Get Training , Validation or Test Data"
   ]
  },
  {
   "cell_type": "code",
   "execution_count": 115,
   "metadata": {},
   "outputs": [],
   "source": [
    "def get_data(split=\"train\"):\n",
    "    letter_map = {\"train\": \"a\", \"val\": \"b\", \"test\": \"c\"}\n",
    "    letter = letter_map[split]\n",
    "    df = pd.read_parquet(f\"data_{letter}_scaled.parquet\")\n",
    "    df = transform_time_series_to_vector(df, trafo_function=\"mean\")\n",
    "    y = df[\"In-hospital_death\"]\n",
    "    X = df.drop(columns=[\"In-hospital_death\"])\n",
    "    return X, y\n"
   ]
  },
  {
   "cell_type": "code",
   "execution_count": 127,
   "metadata": {},
   "outputs": [
    {
     "name": "stdout",
     "output_type": "stream",
     "text": [
      "(4000,)\n",
      "(4000, 39)\n"
     ]
    }
   ],
   "source": [
    "X_train,y_train =get_data(\"train\")\n",
    "print(y.shape)\n",
    "print(X.shape)\n",
    "#X.head()"
   ]
  },
  {
   "cell_type": "markdown",
   "metadata": {},
   "source": [
    "### Train Model"
   ]
  },
  {
   "cell_type": "markdown",
   "metadata": {},
   "source": [
    "Training function"
   ]
  },
  {
   "cell_type": "code",
   "execution_count": null,
   "metadata": {},
   "outputs": [],
   "source": [
    "from sklearn.metrics import roc_auc_score, average_precision_score\n",
    "\n",
    "def train_and_evaluate_model(model, split=\"val\"):\n",
    "\n",
    "    X_train,y_train =get_data(\"train\")\n",
    "\n",
    "    model.fit(X_train, y_train)\n",
    "\n",
    "    X_evaluate,y_evaluate =get_data(split)\n",
    "\n",
    "    y_pred = model.predict_proba(X_evaluate)[:, 1]\n",
    "\n",
    "    auroc = roc_auc_score(y_evaluate, y_pred)\n",
    "    auprc = average_precision_score(y_evaluate, y_pred)\n",
    "\n",
    "    print(\"AUROC:\", auroc)\n",
    "    print(\"AUPRC:\", auprc)\n"
   ]
  },
  {
   "cell_type": "markdown",
   "metadata": {},
   "source": [
    "###  Test models"
   ]
  },
  {
   "cell_type": "code",
   "execution_count": 128,
   "metadata": {},
   "outputs": [
    {
     "name": "stdout",
     "output_type": "stream",
     "text": [
      "AUROC: 0.809153182915994\n",
      "AUPRC: 0.4394604706371753\n"
     ]
    }
   ],
   "source": [
    "from sklearn.linear_model import LogisticRegression\n",
    "\n",
    "model_log_reg = LogisticRegression(max_iter=1000)\n",
    "train_and_evaluate_model(model_log_reg, split=\"test\")"
   ]
  },
  {
   "cell_type": "code",
   "execution_count": 129,
   "metadata": {},
   "outputs": [
    {
     "name": "stdout",
     "output_type": "stream",
     "text": [
      "AUROC: 0.8050513696487344\n",
      "AUPRC: 0.43799286782678326\n"
     ]
    }
   ],
   "source": [
    "from sklearn.ensemble import RandomForestClassifier\n",
    "\n",
    "model_rand_forest = RandomForestClassifier(n_estimators=100, random_state=0)\n",
    "train_and_evaluate_model(model_rand_forest, split=\"test\")\n"
   ]
  },
  {
   "cell_type": "code",
   "execution_count": 130,
   "metadata": {},
   "outputs": [
    {
     "name": "stdout",
     "output_type": "stream",
     "text": [
      "AUROC: 0.7680189210496676\n",
      "AUPRC: 0.3917599205717994\n"
     ]
    }
   ],
   "source": [
    "from sklearn.svm import SVC\n",
    "\n",
    "model_svm = SVC(probability=True)\n",
    "train_and_evaluate_model(model_svm, split=\"test\")\n"
   ]
  },
  {
   "cell_type": "code",
   "execution_count": 131,
   "metadata": {},
   "outputs": [
    {
     "name": "stdout",
     "output_type": "stream",
     "text": [
      "AUROC: 0.6610887111912003\n",
      "AUPRC: 0.24354811767704038\n"
     ]
    }
   ],
   "source": [
    "from sklearn.neighbors import KNeighborsClassifier\n",
    "\n",
    "model_knn = KNeighborsClassifier(n_neighbors=5)\n",
    "train_and_evaluate_model(model_knn, split=\"test\")\n"
   ]
  },
  {
   "cell_type": "code",
   "execution_count": 132,
   "metadata": {},
   "outputs": [
    {
     "name": "stdout",
     "output_type": "stream",
     "text": [
      "AUROC: 0.8121089712304941\n",
      "AUPRC: 0.43910958541906464\n"
     ]
    }
   ],
   "source": [
    "from sklearn.ensemble import GradientBoostingClassifier\n",
    "\n",
    "model_gb = GradientBoostingClassifier()\n",
    "train_and_evaluate_model(model_gb, split=\"test\")\n"
   ]
  },
  {
   "cell_type": "code",
   "execution_count": 133,
   "metadata": {},
   "outputs": [
    {
     "name": "stdout",
     "output_type": "stream",
     "text": [
      "AUROC: 0.7445948617837344\n",
      "AUPRC: 0.3158511164446923\n"
     ]
    }
   ],
   "source": [
    "from sklearn.naive_bayes import GaussianNB\n",
    "\n",
    "model_nb = GaussianNB()\n",
    "train_and_evaluate_model(model_nb, split=\"test\")\n"
   ]
  },
  {
   "cell_type": "code",
   "execution_count": 134,
   "metadata": {},
   "outputs": [
    {
     "data": {
      "image/png": "[encoded data removed]",
      "text/plain": [
       "<Figure size 1000x400 with 1 Axes>"
      ]
     },
     "metadata": {},
     "output_type": "display_data"
    }
   ],
   "source": [
    "import matplotlib.pyplot as plt\n",
    "\n",
    "models = {\n",
    "    \"LogisticRegression\": LogisticRegression(max_iter=1000),\n",
    "    \"RandomForest\": RandomForestClassifier(n_estimators=100, random_state=0),\n",
    "    \"SVM\": SVC(probability=True),\n",
    "    \"KNN\": KNeighborsClassifier(n_neighbors=5),\n",
    "    \"GradientBoosting\": GradientBoostingClassifier(),\n",
    "    \"NaiveBayes\": GaussianNB()\n",
    "}\n",
    "\n",
    "results = {\"Model\": [], \"AUROC\": [], \"AUPRC\": []}\n",
    "\n",
    "for name, model in models.items():\n",
    "    X_train, y_train = get_data(\"train\")\n",
    "    X_test, y_test = get_data(\"test\")\n",
    "\n",
    "    model.fit(X_train, y_train)\n",
    "    y_pred = model.predict_proba(X_test)[:, 1]\n",
    "\n",
    "    auroc = roc_auc_score(y_test, y_pred)\n",
    "    auprc = average_precision_score(y_test, y_pred)\n",
    "\n",
    "    results[\"Model\"].append(name)\n",
    "    results[\"AUROC\"].append(auroc)\n",
    "    results[\"AUPRC\"].append(auprc)\n",
    "\n",
    "# Plotting\n",
    "x = range(len(results[\"Model\"]))\n",
    "plt.figure(figsize=(10, 4))\n",
    "\n",
    "plt.bar(x, results[\"AUROC\"], width=0.4, label=\"AUROC\", align='center')\n",
    "plt.bar([i + 0.4 for i in x], results[\"AUPRC\"], width=0.4, label=\"AUPRC\", align='center')\n",
    "plt.xticks([i + 0.2 for i in x], results[\"Model\"], rotation=45)\n",
    "plt.ylabel(\"Score\")\n",
    "plt.title(\"Model Performance on Test Set\")\n",
    "plt.legend()\n",
    "plt.tight_layout()\n",
    "plt.show()\n"
   ]
  },
  {
   "cell_type": "markdown",
   "metadata": {},
   "source": [
    "# Recurrent Neural Networks - Q2-2"
   ]
  },
  {
   "cell_type": "markdown",
   "metadata": {},
   "source": [
    "this is random chatgpt code just to have a look, likely best do everything again"
   ]
  },
  {
   "cell_type": "code",
   "execution_count": 141,
   "metadata": {},
   "outputs": [
    {
     "name": "stdout",
     "output_type": "stream",
     "text": [
      "AUROC: 0.7997322020748082\n",
      "AUPRC: 0.4549753646368854\n"
     ]
    }
   ],
   "source": [
    "import pandas as pd\n",
    "import numpy as np\n",
    "import torch\n",
    "import torch.nn as nn\n",
    "from torch.utils.data import DataLoader, Dataset\n",
    "from sklearn.metrics import roc_auc_score, average_precision_score\n",
    "\n",
    "# Adjust this based on your time series structure\n",
    "TIME_COLUMN = \"Time\"\n",
    "ID_COLUMN = \"RecordID\"\n",
    "\n",
    "class TimeSeriesDataset(Dataset):\n",
    "    def __init__(self, df, seq_len=48):\n",
    "        self.seq_len = seq_len\n",
    "        self.samples = []\n",
    "        self.labels = []\n",
    "        for rid, group in df.groupby(ID_COLUMN):\n",
    "            group = group.sort_values(TIME_COLUMN)\n",
    "            X = group.drop(columns=[\"In-hospital_death\", ID_COLUMN, TIME_COLUMN]).to_numpy()\n",
    "            y = group[\"In-hospital_death\"].iloc[0]\n",
    "            # pad or truncate to fixed length\n",
    "            if len(X) < seq_len:\n",
    "                pad = np.zeros((seq_len - len(X), X.shape[1]))\n",
    "                X = np.vstack([pad, X])\n",
    "            else:\n",
    "                X = X[-seq_len:]\n",
    "            self.samples.append(X)\n",
    "            self.labels.append(y)\n",
    "\n",
    "    def __len__(self):\n",
    "        return len(self.samples)\n",
    "\n",
    "    def __getitem__(self, idx):\n",
    "        return torch.tensor(self.samples[idx], dtype=torch.float32), torch.tensor(self.labels[idx], dtype=torch.float32)\n",
    "\n",
    "class LSTMClassifier(nn.Module):\n",
    "    def __init__(self, input_size, hidden_size=64):\n",
    "        super().__init__()\n",
    "        self.lstm = nn.LSTM(input_size, hidden_size, batch_first=True)\n",
    "        self.fc = nn.Linear(hidden_size, 1)\n",
    "\n",
    "    def forward(self, x):\n",
    "        _, (h_n, _) = self.lstm(x)\n",
    "        out = self.fc(h_n[-1])\n",
    "        return out.squeeze(1)\n",
    "\n",
    "def get_data(split=\"train\"):\n",
    "    letter_map = {\"train\": \"a\", \"val\": \"b\", \"test\": \"c\"}\n",
    "    letter = letter_map[split]\n",
    "    return pd.read_parquet(f\"data_{letter}_scaled.parquet\")\n",
    "\n",
    "def train_and_evaluate_lstm(model, split=\"val\", batch_size=64, epochs=10, lr=1e-3):\n",
    "    train_df = get_data(\"train\")\n",
    "    val_df = get_data(split)\n",
    "\n",
    "    train_ds = TimeSeriesDataset(train_df)\n",
    "    val_ds = TimeSeriesDataset(val_df)\n",
    "\n",
    "    train_loader = DataLoader(train_ds, batch_size=batch_size, shuffle=True)\n",
    "    val_loader = DataLoader(val_ds, batch_size=batch_size)\n",
    "\n",
    "    device = torch.device(\"cuda\" if torch.cuda.is_available() else \"cpu\")\n",
    "    model = model.to(device)\n",
    "\n",
    "    loss_fn = nn.BCEWithLogitsLoss()\n",
    "    optimizer = torch.optim.Adam(model.parameters(), lr=lr)\n",
    "\n",
    "    for epoch in range(epochs):\n",
    "        model.train()\n",
    "        for x_batch, y_batch in train_loader:\n",
    "            x_batch, y_batch = x_batch.to(device), y_batch.to(device)\n",
    "            optimizer.zero_grad()\n",
    "            out = model(x_batch)\n",
    "            loss = loss_fn(out, y_batch)\n",
    "            loss.backward()\n",
    "            optimizer.step()\n",
    "\n",
    "    model.eval()\n",
    "    y_true, y_pred = [], []\n",
    "    with torch.no_grad():\n",
    "        for x_batch, y_batch in val_loader:\n",
    "            x_batch = x_batch.to(device)\n",
    "            logits = model(x_batch)\n",
    "            probs = torch.sigmoid(logits).cpu().numpy()\n",
    "            y_true.extend(y_batch.numpy())\n",
    "            y_pred.extend(probs)\n",
    "\n",
    "    auroc = roc_auc_score(y_true, y_pred)\n",
    "    auprc = average_precision_score(y_true, y_pred)\n",
    "\n",
    "    print(\"AUROC:\", auroc)\n",
    "    print(\"AUPRC:\", auprc)\n",
    "\n",
    "# Usage\n",
    "input_size = get_data(\"train\").drop(columns=[\"In-hospital_death\", \"RecordID\", \"Time\"]).shape[1]\n",
    "model = LSTMClassifier(input_size=input_size)\n",
    "train_and_evaluate_lstm(model, split=\"test\")\n"
   ]
  }
 ],
 "metadata": {
  "kernelspec": {
   "display_name": "ml4hc",
   "language": "python",
   "name": "python3"
  },
  "language_info": {
   "codemirror_mode": {
    "name": "ipython",
    "version": 3
   },
   "file_extension": ".py",
   "mimetype": "text/x-python",
   "name": "python",
   "nbconvert_exporter": "python",
   "pygments_lexer": "ipython3",
   "version": "3.10.16"
  }
 },
 "nbformat": 4,
 "nbformat_minor": 4
}
